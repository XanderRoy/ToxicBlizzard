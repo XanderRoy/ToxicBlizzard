{
 "cells": [
  {
   "cell_type": "code",
   "execution_count": 1,
   "metadata": {},
   "outputs": [],
   "source": [
    "# Dependencies\n",
    "import numpy as np\n",
    "import pandas as pd\n",
    "import pprint\n",
    "import requests\n",
    "import pymongo\n",
    "from IPython.display import HTML\n",
    "\n",
    "from datetime import datetime\n",
    "\n",
    "\n",
    "# Import and Initialize Sentiment Analyzer\n",
    "from vaderSentiment.vaderSentiment import SentimentIntensityAnalyzer\n",
    "analyzer = SentimentIntensityAnalyzer()\n",
    "\n",
    "\n",
    "from PIL import Image\n",
    "from wordcloud import WordCloud, STOPWORDS, ImageColorGenerator\n",
    "\n",
    "import matplotlib.pyplot as plt\n",
    "import matplotlib.dates as pltdates\n",
    "%matplotlib inline\n",
    "\n",
    "from sqlalchemy import create_engine\n",
    "from sqlalchemy.types import String, Date, DateTime, Float"
   ]
  },
  {
   "cell_type": "code",
   "execution_count": 2,
   "metadata": {},
   "outputs": [],
   "source": [
    "plt.rcParams['figure.dpi'] = 150 # default for me was 75\n"
   ]
  },
  {
   "cell_type": "code",
   "execution_count": 3,
   "metadata": {},
   "outputs": [],
   "source": [
    "# Initialize PyMongo to work with MongoDBs\n",
    "conn = 'mongodb://localhost:27017'\n",
    "client = pymongo.MongoClient(conn)"
   ]
  },
  {
   "cell_type": "code",
   "execution_count": 4,
   "metadata": {},
   "outputs": [],
   "source": [
    "# Define database and collection\n",
    "db = client.diablo_db\n",
    "collection = db.d3forum"
   ]
  },
  {
   "cell_type": "code",
   "execution_count": 5,
   "metadata": {},
   "outputs": [
    {
     "data": {
      "text/plain": [
       "{'_id': ObjectId('5be65932c1d80b798639f43d'),\n",
       " 'title': 'Weapon Elemental Damage?',\n",
       " 'posted_at': datetime.datetime(2015, 7, 5, 4, 19),\n",
       " 'reply_sentiment': [{'neg': 0.204,\n",
       "   'neu': 0.705,\n",
       "   'pos': 0.09,\n",
       "   'compound': -0.871},\n",
       "  {'neg': 0.186, 'neu': 0.752, 'pos': 0.062, 'compound': -0.743}],\n",
       " 'text': [\"I'm kinda confused on this. I've read a few threads with differing views and I'm just ?????<br/>I'm literally a question mark right now. My final form is here and it is a giant question mark.<br/><br/>Let's say  I have a cold build on a Wizard. I have a weapon with XXX Cold Damage and a piece of armor with + XXX% Cold Damage. <br/><br/>Does the Armor increase the Weapon's elemental damage?<br/>Do Wizards even benefit from Elemental Damage on Weapons like that?\",\n",
       "  'Elemental damage on a weapon has no effect on anything other than that ONE wizard passive but it is explicitly stated in said passive.  Aside from that it has no bearing at all.Also, you\\'re the reason why we literally no longer have a word in the English language that means \"literally\".I\\'m Human: nekoggab']}"
      ]
     },
     "execution_count": 5,
     "metadata": {},
     "output_type": "execute_result"
    }
   ],
   "source": [
    "\n",
    "post_dict = list(db['d3forum2'].find())\n",
    "post_dict[0]"
   ]
  },
  {
   "cell_type": "code",
   "execution_count": null,
   "metadata": {},
   "outputs": [
    {
     "name": "stdout",
     "output_type": "stream",
     "text": [
      "0\n",
      "10000\n"
     ]
    }
   ],
   "source": [
    "frames = []\n",
    "for row, topic in enumerate(post_dict):\n",
    "    if row % 10000 == 0:\n",
    "        print(row)\n",
    "    array = []\n",
    "    for counter, post in enumerate(post_dict[row]['text']):\n",
    "        try:\n",
    "            array.append([post_dict[row]['text'][counter], post_dict[row]['reply_sentiment'][counter]['pos'],\n",
    "                   post_dict[row]['reply_sentiment'][counter]['neg'], post_dict[row]['reply_sentiment'][counter]['neu'],\n",
    "                  post_dict[row]['reply_sentiment'][counter]['compound']])\n",
    "        \n",
    "        except IndexError as e:\n",
    "            print(e, counter)\n",
    "    titles = []\n",
    "    [titles.append(post_dict[row]['title']) for result in array]\n",
    "    post_time = []\n",
    "    [post_time.append(post_dict[row]['posted_at']) for result in array]\n",
    "\n",
    "    tuples = list(zip(titles, post_time, list(range(len(post_dict[row]['text'])))))\n",
    "    index = pd.MultiIndex.from_tuples(tuples, names=['title', 'post_time', 'reply #'])\n",
    "\n",
    "    df = pd.DataFrame(array, index=index, columns=\n",
    "                      ['Text', 'pos', 'neg', 'neu', 'compound'])\n",
    "    frames.append(df)\n",
    "result = pd.concat(frames)"
   ]
  },
  {
   "cell_type": "code",
   "execution_count": null,
   "metadata": {},
   "outputs": [],
   "source": [
    "result.head()"
   ]
  },
  {
   "cell_type": "code",
   "execution_count": null,
   "metadata": {},
   "outputs": [],
   "source": [
    "result.sort_values(by='compound', ascending=True)"
   ]
  },
  {
   "cell_type": "code",
   "execution_count": null,
   "metadata": {},
   "outputs": [],
   "source": [
    "plot_df = result[['pos', 'neg', 'neu', 'compound', 'Text']]\n",
    "plot_df.index = plot_df.index.droplevel(level=[0,2])\n",
    "plot_df = plot_df.reset_index(drop=False)\n",
    "plot_df['month-year'] = plot_df.post_time.dt.to_period('M')\n",
    "plot_df.head()"
   ]
  },
  {
   "cell_type": "code",
   "execution_count": null,
   "metadata": {},
   "outputs": [],
   "source": [
    "timed_averages = plot_df.groupby(by=['month-year']).mean()\n",
    "timed_averages.plot()"
   ]
  },
  {
   "cell_type": "code",
   "execution_count": null,
   "metadata": {},
   "outputs": [],
   "source": [
    "# timed_averages = plot_df.groupby(by=[plot_df.index.month, plot_df.index.day,  plot_df.index.year]).mean()\n",
    "# timed_averages.index = timed_averages.index.set_names(names=['Month', 'Day', 'Year'])\n",
    "timed_averages = timed_averages.reset_index(drop=False)\n",
    "timed_averages.head()\n"
   ]
  },
  {
   "cell_type": "code",
   "execution_count": null,
   "metadata": {},
   "outputs": [],
   "source": [
    "skull_mask = np.array(Image.open(\"/home/xanderroy/Documents/ToxicBlizzard/step0001.jpg\"))\n",
    "\n"
   ]
  },
  {
   "cell_type": "code",
   "execution_count": null,
   "metadata": {},
   "outputs": [],
   "source": [
    "monthly_words = plot_df.groupby(['month-year']).agg(lambda x: x.mean() if x.dtype=='float64' else \"\".join(x))\n",
    "monthly_words.index = monthly_words.index.strftime('%Y-%m')\n",
    "monthly_words = monthly_words.reset_index(drop=False)\n",
    "monthly_words.head()"
   ]
  },
  {
   "cell_type": "code",
   "execution_count": null,
   "metadata": {},
   "outputs": [],
   "source": [
    "# this is for making ONE wordcloud\n",
    "stopwords = set(STOPWORDS)\n",
    "stopwords.update(['now', 'will', 'come', 'or', 'to', 'and', \n",
    "            'the', 'be', 'i', 'it', 'in', 'of', 'with', 'this', 'if', 'make', 'even', 'PMPosted'\n",
    "            'so', 'but', 'that', 'so', 'all', 'a', 'game', 'because', 'one', 'AMPosted'])\n",
    "\n",
    "wordcloud = WordCloud(stopwords=stopwords, mask=skull_mask, scale=2, height=500,\n",
    "                     relative_scaling=.5, max_words=300, \n",
    "                     contour_width=2, contour_color='red',\n",
    "                      color_func=lambda *args, **kwargs: \"white\").generate(\"Loading\")\n",
    "\n",
    "#     plt.figure(figsize=(6, 3), dpi=400)\n",
    "plt.imshow(wordcloud, interpolation='bilinear')\n",
    "plt.axis(\"off\")\n",
    "date =  row[0].strftime('%Y-%m')\n",
    "filename = f'{date}cloud'\n",
    "plt.tight_layout()\n",
    "plt.title = (f'{date}')\n",
    "plt.savefig(f'/home/xanderroy/Documents/homework/Webpage/Homepage/{filename}',dpi=250,  transparent=True)\n",
    "print(filename)\n",
    "plt.show()"
   ]
  },
  {
   "cell_type": "code",
   "execution_count": null,
   "metadata": {},
   "outputs": [],
   "source": [
    "wordcloud?"
   ]
  },
  {
   "cell_type": "code",
   "execution_count": 24,
   "metadata": {},
   "outputs": [
    {
     "ename": "StatementError",
     "evalue": "(builtins.TypeError) SQLite DateTime type only accepts Python datetime and date objects as input. [SQL: 'INSERT INTO monthyear (\"index\", \"month-year\", pos, neg, neu, compound) VALUES (?, ?, ?, ?, ?, ?)'] [parameters: [{'index': 0, 'month-year': Period('2011-08', 'M'), 'pos': 0.1432663755458516, 'neg': 0.056978165938864685, 'neu': 0.7976069868995632, 'compound': 0.31008777292576417}, {'index': 1, 'month-year': Period('2011-09', 'M'), 'pos': 0.12748379792301073, 'neg': 0.07744264855157361, 'neu': 0.7943677676270761, 'compound': 0.18511465604747382}, {'index': 2, 'month-year': Period('2011-10', 'M'), 'pos': 0.12332532799644158, 'neg': 0.08344866948335934, 'neu': 0.7927829664220594, 'compound': 0.1979366466533241}, {'index': 3, 'month-year': Period('2011-11', 'M'), 'pos': 0.1299480654621138, 'neg': 0.07176284173682732, 'neu': 0.7980052029136352, 'compound': 0.23084148141140742}, {'index': 4, 'month-year': Period('2011-12', 'M'), 'pos': 0.12461637821865762, 'neg': 0.08178733642887348, 'neu': 0.7927531447868258, 'compound': 0.18835580413676578}, {'index': 5, 'month-year': Period('2012-01', 'M'), 'pos': 0.12071000699037487, 'neg': 0.0731898693337636, 'neu': 0.8053495725116977, 'compound': 0.19895731569607986}, {'index': 6, 'month-year': Period('2012-02', 'M'), 'pos': 0.12876838093771675, 'neg': 0.07153826314573855, 'neu': 0.7989236276849557, 'compound': 0.216004931095544}, {'index': 7, 'month-year': Period('2012-03', 'M'), 'pos': 0.12605842457683103, 'neg': 0.07006290772192988, 'neu': 0.8032175474897308, 'compound': 0.20491657901543653}  ... displaying 10 of 88 total bound parameter sets ...  {'index': 86, 'month-year': Period('2018-10', 'M'), 'pos': 0.1131501680020679, 'neg': 0.07272551046782101, 'neu': 0.8133494443008519, 'compound': 0.19388565520806456}, {'index': 87, 'month-year': Period('2018-11', 'M'), 'pos': 0.11877307676322735, 'neg': 0.08256281950043623, 'neu': 0.7824594156518863, 'compound': 0.14056194671875644}]]",
     "output_type": "error",
     "traceback": [
      "\u001b[0;31m---------------------------------------------------------------------------\u001b[0m",
      "\u001b[0;31mTypeError\u001b[0m                                 Traceback (most recent call last)",
      "\u001b[0;32m~/anaconda3/lib/python3.7/site-packages/sqlalchemy/engine/base.py\u001b[0m in \u001b[0;36m_execute_context\u001b[0;34m(self, dialect, constructor, statement, parameters, *args)\u001b[0m\n\u001b[1;32m   1126\u001b[0m \u001b[0;34m\u001b[0m\u001b[0m\n\u001b[0;32m-> 1127\u001b[0;31m             \u001b[0mcontext\u001b[0m \u001b[0;34m=\u001b[0m \u001b[0mconstructor\u001b[0m\u001b[0;34m(\u001b[0m\u001b[0mdialect\u001b[0m\u001b[0;34m,\u001b[0m \u001b[0mself\u001b[0m\u001b[0;34m,\u001b[0m \u001b[0mconn\u001b[0m\u001b[0;34m,\u001b[0m \u001b[0;34m*\u001b[0m\u001b[0margs\u001b[0m\u001b[0;34m)\u001b[0m\u001b[0;34m\u001b[0m\u001b[0m\n\u001b[0m\u001b[1;32m   1128\u001b[0m         \u001b[0;32mexcept\u001b[0m \u001b[0mBaseException\u001b[0m \u001b[0;32mas\u001b[0m \u001b[0me\u001b[0m\u001b[0;34m:\u001b[0m\u001b[0;34m\u001b[0m\u001b[0m\n",
      "\u001b[0;32m~/anaconda3/lib/python3.7/site-packages/sqlalchemy/engine/default.py\u001b[0m in \u001b[0;36m_init_compiled\u001b[0;34m(cls, dialect, connection, dbapi_connection, compiled, parameters)\u001b[0m\n\u001b[1;32m    668\u001b[0m                     \u001b[0;32mif\u001b[0m \u001b[0mkey\u001b[0m \u001b[0;32min\u001b[0m \u001b[0mprocessors\u001b[0m\u001b[0;34m:\u001b[0m\u001b[0;34m\u001b[0m\u001b[0m\n\u001b[0;32m--> 669\u001b[0;31m                         \u001b[0mparam\u001b[0m\u001b[0;34m.\u001b[0m\u001b[0mappend\u001b[0m\u001b[0;34m(\u001b[0m\u001b[0mprocessors\u001b[0m\u001b[0;34m[\u001b[0m\u001b[0mkey\u001b[0m\u001b[0;34m]\u001b[0m\u001b[0;34m(\u001b[0m\u001b[0mcompiled_params\u001b[0m\u001b[0;34m[\u001b[0m\u001b[0mkey\u001b[0m\u001b[0;34m]\u001b[0m\u001b[0;34m)\u001b[0m\u001b[0;34m)\u001b[0m\u001b[0;34m\u001b[0m\u001b[0m\n\u001b[0m\u001b[1;32m    670\u001b[0m                     \u001b[0;32melse\u001b[0m\u001b[0;34m:\u001b[0m\u001b[0;34m\u001b[0m\u001b[0m\n",
      "\u001b[0;32m~/anaconda3/lib/python3.7/site-packages/sqlalchemy/dialects/sqlite/base.py\u001b[0m in \u001b[0;36mprocess\u001b[0;34m(value)\u001b[0m\n\u001b[1;32m    609\u001b[0m             \u001b[0;32melse\u001b[0m\u001b[0;34m:\u001b[0m\u001b[0;34m\u001b[0m\u001b[0m\n\u001b[0;32m--> 610\u001b[0;31m                 raise TypeError(\"SQLite DateTime type only accepts Python \"\n\u001b[0m\u001b[1;32m    611\u001b[0m                                 \"datetime and date objects as input.\")\n",
      "\u001b[0;31mTypeError\u001b[0m: SQLite DateTime type only accepts Python datetime and date objects as input.",
      "\nThe above exception was the direct cause of the following exception:\n",
      "\u001b[0;31mStatementError\u001b[0m                            Traceback (most recent call last)",
      "\u001b[0;32m<ipython-input-24-9e45dc4af193>\u001b[0m in \u001b[0;36m<module>\u001b[0;34m()\u001b[0m\n\u001b[1;32m      4\u001b[0m timed_averages.to_sql('monthyear',  engine, chunksize=1000,\n\u001b[1;32m      5\u001b[0m               dtype={'month-year': DateTime, 'pos': Float, 'neu': Float,\n\u001b[0;32m----> 6\u001b[0;31m                      'neg': Float , 'compound': Float})\n\u001b[0m",
      "\u001b[0;32m~/anaconda3/lib/python3.7/site-packages/pandas/core/generic.py\u001b[0m in \u001b[0;36mto_sql\u001b[0;34m(self, name, con, schema, if_exists, index, index_label, chunksize, dtype)\u001b[0m\n\u001b[1;32m   2128\u001b[0m         sql.to_sql(self, name, con, schema=schema, if_exists=if_exists,\n\u001b[1;32m   2129\u001b[0m                    \u001b[0mindex\u001b[0m\u001b[0;34m=\u001b[0m\u001b[0mindex\u001b[0m\u001b[0;34m,\u001b[0m \u001b[0mindex_label\u001b[0m\u001b[0;34m=\u001b[0m\u001b[0mindex_label\u001b[0m\u001b[0;34m,\u001b[0m \u001b[0mchunksize\u001b[0m\u001b[0;34m=\u001b[0m\u001b[0mchunksize\u001b[0m\u001b[0;34m,\u001b[0m\u001b[0;34m\u001b[0m\u001b[0m\n\u001b[0;32m-> 2130\u001b[0;31m                    dtype=dtype)\n\u001b[0m\u001b[1;32m   2131\u001b[0m \u001b[0;34m\u001b[0m\u001b[0m\n\u001b[1;32m   2132\u001b[0m     def to_pickle(self, path, compression='infer',\n",
      "\u001b[0;32m~/anaconda3/lib/python3.7/site-packages/pandas/io/sql.py\u001b[0m in \u001b[0;36mto_sql\u001b[0;34m(frame, name, con, schema, if_exists, index, index_label, chunksize, dtype)\u001b[0m\n\u001b[1;32m    448\u001b[0m     pandas_sql.to_sql(frame, name, if_exists=if_exists, index=index,\n\u001b[1;32m    449\u001b[0m                       \u001b[0mindex_label\u001b[0m\u001b[0;34m=\u001b[0m\u001b[0mindex_label\u001b[0m\u001b[0;34m,\u001b[0m \u001b[0mschema\u001b[0m\u001b[0;34m=\u001b[0m\u001b[0mschema\u001b[0m\u001b[0;34m,\u001b[0m\u001b[0;34m\u001b[0m\u001b[0m\n\u001b[0;32m--> 450\u001b[0;31m                       chunksize=chunksize, dtype=dtype)\n\u001b[0m\u001b[1;32m    451\u001b[0m \u001b[0;34m\u001b[0m\u001b[0m\n\u001b[1;32m    452\u001b[0m \u001b[0;34m\u001b[0m\u001b[0m\n",
      "\u001b[0;32m~/anaconda3/lib/python3.7/site-packages/pandas/io/sql.py\u001b[0m in \u001b[0;36mto_sql\u001b[0;34m(self, frame, name, if_exists, index, index_label, schema, chunksize, dtype)\u001b[0m\n\u001b[1;32m   1125\u001b[0m                          schema=schema, dtype=dtype)\n\u001b[1;32m   1126\u001b[0m         \u001b[0mtable\u001b[0m\u001b[0;34m.\u001b[0m\u001b[0mcreate\u001b[0m\u001b[0;34m(\u001b[0m\u001b[0;34m)\u001b[0m\u001b[0;34m\u001b[0m\u001b[0m\n\u001b[0;32m-> 1127\u001b[0;31m         \u001b[0mtable\u001b[0m\u001b[0;34m.\u001b[0m\u001b[0minsert\u001b[0m\u001b[0;34m(\u001b[0m\u001b[0mchunksize\u001b[0m\u001b[0;34m)\u001b[0m\u001b[0;34m\u001b[0m\u001b[0m\n\u001b[0m\u001b[1;32m   1128\u001b[0m         \u001b[0;32mif\u001b[0m \u001b[0;34m(\u001b[0m\u001b[0;32mnot\u001b[0m \u001b[0mname\u001b[0m\u001b[0;34m.\u001b[0m\u001b[0misdigit\u001b[0m\u001b[0;34m(\u001b[0m\u001b[0;34m)\u001b[0m \u001b[0;32mand\u001b[0m \u001b[0;32mnot\u001b[0m \u001b[0mname\u001b[0m\u001b[0;34m.\u001b[0m\u001b[0mislower\u001b[0m\u001b[0;34m(\u001b[0m\u001b[0;34m)\u001b[0m\u001b[0;34m)\u001b[0m\u001b[0;34m:\u001b[0m\u001b[0;34m\u001b[0m\u001b[0m\n\u001b[1;32m   1129\u001b[0m             \u001b[0;31m# check for potentially case sensitivity issues (GH7815)\u001b[0m\u001b[0;34m\u001b[0m\u001b[0;34m\u001b[0m\u001b[0m\n",
      "\u001b[0;32m~/anaconda3/lib/python3.7/site-packages/pandas/io/sql.py\u001b[0m in \u001b[0;36minsert\u001b[0;34m(self, chunksize)\u001b[0m\n\u001b[1;32m    639\u001b[0m \u001b[0;34m\u001b[0m\u001b[0m\n\u001b[1;32m    640\u001b[0m                 \u001b[0mchunk_iter\u001b[0m \u001b[0;34m=\u001b[0m \u001b[0mzip\u001b[0m\u001b[0;34m(\u001b[0m\u001b[0;34m*\u001b[0m\u001b[0;34m[\u001b[0m\u001b[0marr\u001b[0m\u001b[0;34m[\u001b[0m\u001b[0mstart_i\u001b[0m\u001b[0;34m:\u001b[0m\u001b[0mend_i\u001b[0m\u001b[0;34m]\u001b[0m \u001b[0;32mfor\u001b[0m \u001b[0marr\u001b[0m \u001b[0;32min\u001b[0m \u001b[0mdata_list\u001b[0m\u001b[0;34m]\u001b[0m\u001b[0;34m)\u001b[0m\u001b[0;34m\u001b[0m\u001b[0m\n\u001b[0;32m--> 641\u001b[0;31m                 \u001b[0mself\u001b[0m\u001b[0;34m.\u001b[0m\u001b[0m_execute_insert\u001b[0m\u001b[0;34m(\u001b[0m\u001b[0mconn\u001b[0m\u001b[0;34m,\u001b[0m \u001b[0mkeys\u001b[0m\u001b[0;34m,\u001b[0m \u001b[0mchunk_iter\u001b[0m\u001b[0;34m)\u001b[0m\u001b[0;34m\u001b[0m\u001b[0m\n\u001b[0m\u001b[1;32m    642\u001b[0m \u001b[0;34m\u001b[0m\u001b[0m\n\u001b[1;32m    643\u001b[0m     def _query_iterator(self, result, chunksize, columns, coerce_float=True,\n",
      "\u001b[0;32m~/anaconda3/lib/python3.7/site-packages/pandas/io/sql.py\u001b[0m in \u001b[0;36m_execute_insert\u001b[0;34m(self, conn, keys, data_iter)\u001b[0m\n\u001b[1;32m    614\u001b[0m     \u001b[0;32mdef\u001b[0m \u001b[0m_execute_insert\u001b[0m\u001b[0;34m(\u001b[0m\u001b[0mself\u001b[0m\u001b[0;34m,\u001b[0m \u001b[0mconn\u001b[0m\u001b[0;34m,\u001b[0m \u001b[0mkeys\u001b[0m\u001b[0;34m,\u001b[0m \u001b[0mdata_iter\u001b[0m\u001b[0;34m)\u001b[0m\u001b[0;34m:\u001b[0m\u001b[0;34m\u001b[0m\u001b[0m\n\u001b[1;32m    615\u001b[0m         \u001b[0mdata\u001b[0m \u001b[0;34m=\u001b[0m \u001b[0;34m[\u001b[0m\u001b[0;34m{\u001b[0m\u001b[0mk\u001b[0m\u001b[0;34m:\u001b[0m \u001b[0mv\u001b[0m \u001b[0;32mfor\u001b[0m \u001b[0mk\u001b[0m\u001b[0;34m,\u001b[0m \u001b[0mv\u001b[0m \u001b[0;32min\u001b[0m \u001b[0mzip\u001b[0m\u001b[0;34m(\u001b[0m\u001b[0mkeys\u001b[0m\u001b[0;34m,\u001b[0m \u001b[0mrow\u001b[0m\u001b[0;34m)\u001b[0m\u001b[0;34m}\u001b[0m \u001b[0;32mfor\u001b[0m \u001b[0mrow\u001b[0m \u001b[0;32min\u001b[0m \u001b[0mdata_iter\u001b[0m\u001b[0;34m]\u001b[0m\u001b[0;34m\u001b[0m\u001b[0m\n\u001b[0;32m--> 616\u001b[0;31m         \u001b[0mconn\u001b[0m\u001b[0;34m.\u001b[0m\u001b[0mexecute\u001b[0m\u001b[0;34m(\u001b[0m\u001b[0mself\u001b[0m\u001b[0;34m.\u001b[0m\u001b[0minsert_statement\u001b[0m\u001b[0;34m(\u001b[0m\u001b[0;34m)\u001b[0m\u001b[0;34m,\u001b[0m \u001b[0mdata\u001b[0m\u001b[0;34m)\u001b[0m\u001b[0;34m\u001b[0m\u001b[0m\n\u001b[0m\u001b[1;32m    617\u001b[0m \u001b[0;34m\u001b[0m\u001b[0m\n\u001b[1;32m    618\u001b[0m     \u001b[0;32mdef\u001b[0m \u001b[0minsert\u001b[0m\u001b[0;34m(\u001b[0m\u001b[0mself\u001b[0m\u001b[0;34m,\u001b[0m \u001b[0mchunksize\u001b[0m\u001b[0;34m=\u001b[0m\u001b[0;32mNone\u001b[0m\u001b[0;34m)\u001b[0m\u001b[0;34m:\u001b[0m\u001b[0;34m\u001b[0m\u001b[0m\n",
      "\u001b[0;32m~/anaconda3/lib/python3.7/site-packages/sqlalchemy/engine/base.py\u001b[0m in \u001b[0;36mexecute\u001b[0;34m(self, object, *multiparams, **params)\u001b[0m\n\u001b[1;32m    946\u001b[0m             \u001b[0;32mraise\u001b[0m \u001b[0mexc\u001b[0m\u001b[0;34m.\u001b[0m\u001b[0mObjectNotExecutableError\u001b[0m\u001b[0;34m(\u001b[0m\u001b[0mobject\u001b[0m\u001b[0;34m)\u001b[0m\u001b[0;34m\u001b[0m\u001b[0m\n\u001b[1;32m    947\u001b[0m         \u001b[0;32melse\u001b[0m\u001b[0;34m:\u001b[0m\u001b[0;34m\u001b[0m\u001b[0m\n\u001b[0;32m--> 948\u001b[0;31m             \u001b[0;32mreturn\u001b[0m \u001b[0mmeth\u001b[0m\u001b[0;34m(\u001b[0m\u001b[0mself\u001b[0m\u001b[0;34m,\u001b[0m \u001b[0mmultiparams\u001b[0m\u001b[0;34m,\u001b[0m \u001b[0mparams\u001b[0m\u001b[0;34m)\u001b[0m\u001b[0;34m\u001b[0m\u001b[0m\n\u001b[0m\u001b[1;32m    949\u001b[0m \u001b[0;34m\u001b[0m\u001b[0m\n\u001b[1;32m    950\u001b[0m     \u001b[0;32mdef\u001b[0m \u001b[0m_execute_function\u001b[0m\u001b[0;34m(\u001b[0m\u001b[0mself\u001b[0m\u001b[0;34m,\u001b[0m \u001b[0mfunc\u001b[0m\u001b[0;34m,\u001b[0m \u001b[0mmultiparams\u001b[0m\u001b[0;34m,\u001b[0m \u001b[0mparams\u001b[0m\u001b[0;34m)\u001b[0m\u001b[0;34m:\u001b[0m\u001b[0;34m\u001b[0m\u001b[0m\n",
      "\u001b[0;32m~/anaconda3/lib/python3.7/site-packages/sqlalchemy/sql/elements.py\u001b[0m in \u001b[0;36m_execute_on_connection\u001b[0;34m(self, connection, multiparams, params)\u001b[0m\n\u001b[1;32m    267\u001b[0m     \u001b[0;32mdef\u001b[0m \u001b[0m_execute_on_connection\u001b[0m\u001b[0;34m(\u001b[0m\u001b[0mself\u001b[0m\u001b[0;34m,\u001b[0m \u001b[0mconnection\u001b[0m\u001b[0;34m,\u001b[0m \u001b[0mmultiparams\u001b[0m\u001b[0;34m,\u001b[0m \u001b[0mparams\u001b[0m\u001b[0;34m)\u001b[0m\u001b[0;34m:\u001b[0m\u001b[0;34m\u001b[0m\u001b[0m\n\u001b[1;32m    268\u001b[0m         \u001b[0;32mif\u001b[0m \u001b[0mself\u001b[0m\u001b[0;34m.\u001b[0m\u001b[0msupports_execution\u001b[0m\u001b[0;34m:\u001b[0m\u001b[0;34m\u001b[0m\u001b[0m\n\u001b[0;32m--> 269\u001b[0;31m             \u001b[0;32mreturn\u001b[0m \u001b[0mconnection\u001b[0m\u001b[0;34m.\u001b[0m\u001b[0m_execute_clauseelement\u001b[0m\u001b[0;34m(\u001b[0m\u001b[0mself\u001b[0m\u001b[0;34m,\u001b[0m \u001b[0mmultiparams\u001b[0m\u001b[0;34m,\u001b[0m \u001b[0mparams\u001b[0m\u001b[0;34m)\u001b[0m\u001b[0;34m\u001b[0m\u001b[0m\n\u001b[0m\u001b[1;32m    270\u001b[0m         \u001b[0;32melse\u001b[0m\u001b[0;34m:\u001b[0m\u001b[0;34m\u001b[0m\u001b[0m\n\u001b[1;32m    271\u001b[0m             \u001b[0;32mraise\u001b[0m \u001b[0mexc\u001b[0m\u001b[0;34m.\u001b[0m\u001b[0mObjectNotExecutableError\u001b[0m\u001b[0;34m(\u001b[0m\u001b[0mself\u001b[0m\u001b[0;34m)\u001b[0m\u001b[0;34m\u001b[0m\u001b[0m\n",
      "\u001b[0;32m~/anaconda3/lib/python3.7/site-packages/sqlalchemy/engine/base.py\u001b[0m in \u001b[0;36m_execute_clauseelement\u001b[0;34m(self, elem, multiparams, params)\u001b[0m\n\u001b[1;32m   1058\u001b[0m             \u001b[0mcompiled_sql\u001b[0m\u001b[0;34m,\u001b[0m\u001b[0;34m\u001b[0m\u001b[0m\n\u001b[1;32m   1059\u001b[0m             \u001b[0mdistilled_params\u001b[0m\u001b[0;34m,\u001b[0m\u001b[0;34m\u001b[0m\u001b[0m\n\u001b[0;32m-> 1060\u001b[0;31m             \u001b[0mcompiled_sql\u001b[0m\u001b[0;34m,\u001b[0m \u001b[0mdistilled_params\u001b[0m\u001b[0;34m\u001b[0m\u001b[0m\n\u001b[0m\u001b[1;32m   1061\u001b[0m         )\n\u001b[1;32m   1062\u001b[0m         \u001b[0;32mif\u001b[0m \u001b[0mself\u001b[0m\u001b[0;34m.\u001b[0m\u001b[0m_has_events\u001b[0m \u001b[0;32mor\u001b[0m \u001b[0mself\u001b[0m\u001b[0;34m.\u001b[0m\u001b[0mengine\u001b[0m\u001b[0;34m.\u001b[0m\u001b[0m_has_events\u001b[0m\u001b[0;34m:\u001b[0m\u001b[0;34m\u001b[0m\u001b[0m\n",
      "\u001b[0;32m~/anaconda3/lib/python3.7/site-packages/sqlalchemy/engine/base.py\u001b[0m in \u001b[0;36m_execute_context\u001b[0;34m(self, dialect, constructor, statement, parameters, *args)\u001b[0m\n\u001b[1;32m   1130\u001b[0m                 \u001b[0me\u001b[0m\u001b[0;34m,\u001b[0m\u001b[0;34m\u001b[0m\u001b[0m\n\u001b[1;32m   1131\u001b[0m                 \u001b[0mutil\u001b[0m\u001b[0;34m.\u001b[0m\u001b[0mtext_type\u001b[0m\u001b[0;34m(\u001b[0m\u001b[0mstatement\u001b[0m\u001b[0;34m)\u001b[0m\u001b[0;34m,\u001b[0m \u001b[0mparameters\u001b[0m\u001b[0;34m,\u001b[0m\u001b[0;34m\u001b[0m\u001b[0m\n\u001b[0;32m-> 1132\u001b[0;31m                 None, None)\n\u001b[0m\u001b[1;32m   1133\u001b[0m \u001b[0;34m\u001b[0m\u001b[0m\n\u001b[1;32m   1134\u001b[0m         \u001b[0;32mif\u001b[0m \u001b[0mcontext\u001b[0m\u001b[0;34m.\u001b[0m\u001b[0mcompiled\u001b[0m\u001b[0;34m:\u001b[0m\u001b[0;34m\u001b[0m\u001b[0m\n",
      "\u001b[0;32m~/anaconda3/lib/python3.7/site-packages/sqlalchemy/engine/base.py\u001b[0m in \u001b[0;36m_handle_dbapi_exception\u001b[0;34m(self, e, statement, parameters, cursor, context)\u001b[0m\n\u001b[1;32m   1411\u001b[0m                 util.raise_from_cause(\n\u001b[1;32m   1412\u001b[0m                     \u001b[0msqlalchemy_exception\u001b[0m\u001b[0;34m,\u001b[0m\u001b[0;34m\u001b[0m\u001b[0m\n\u001b[0;32m-> 1413\u001b[0;31m                     \u001b[0mexc_info\u001b[0m\u001b[0;34m\u001b[0m\u001b[0m\n\u001b[0m\u001b[1;32m   1414\u001b[0m                 )\n\u001b[1;32m   1415\u001b[0m             \u001b[0;32melse\u001b[0m\u001b[0;34m:\u001b[0m\u001b[0;34m\u001b[0m\u001b[0m\n",
      "\u001b[0;32m~/anaconda3/lib/python3.7/site-packages/sqlalchemy/util/compat.py\u001b[0m in \u001b[0;36mraise_from_cause\u001b[0;34m(exception, exc_info)\u001b[0m\n\u001b[1;32m    263\u001b[0m     \u001b[0mexc_type\u001b[0m\u001b[0;34m,\u001b[0m \u001b[0mexc_value\u001b[0m\u001b[0;34m,\u001b[0m \u001b[0mexc_tb\u001b[0m \u001b[0;34m=\u001b[0m \u001b[0mexc_info\u001b[0m\u001b[0;34m\u001b[0m\u001b[0m\n\u001b[1;32m    264\u001b[0m     \u001b[0mcause\u001b[0m \u001b[0;34m=\u001b[0m \u001b[0mexc_value\u001b[0m \u001b[0;32mif\u001b[0m \u001b[0mexc_value\u001b[0m \u001b[0;32mis\u001b[0m \u001b[0;32mnot\u001b[0m \u001b[0mexception\u001b[0m \u001b[0;32melse\u001b[0m \u001b[0;32mNone\u001b[0m\u001b[0;34m\u001b[0m\u001b[0m\n\u001b[0;32m--> 265\u001b[0;31m     \u001b[0mreraise\u001b[0m\u001b[0;34m(\u001b[0m\u001b[0mtype\u001b[0m\u001b[0;34m(\u001b[0m\u001b[0mexception\u001b[0m\u001b[0;34m)\u001b[0m\u001b[0;34m,\u001b[0m \u001b[0mexception\u001b[0m\u001b[0;34m,\u001b[0m \u001b[0mtb\u001b[0m\u001b[0;34m=\u001b[0m\u001b[0mexc_tb\u001b[0m\u001b[0;34m,\u001b[0m \u001b[0mcause\u001b[0m\u001b[0;34m=\u001b[0m\u001b[0mcause\u001b[0m\u001b[0;34m)\u001b[0m\u001b[0;34m\u001b[0m\u001b[0m\n\u001b[0m\u001b[1;32m    266\u001b[0m \u001b[0;34m\u001b[0m\u001b[0m\n\u001b[1;32m    267\u001b[0m \u001b[0;32mif\u001b[0m \u001b[0mpy3k\u001b[0m\u001b[0;34m:\u001b[0m\u001b[0;34m\u001b[0m\u001b[0m\n",
      "\u001b[0;32m~/anaconda3/lib/python3.7/site-packages/sqlalchemy/util/compat.py\u001b[0m in \u001b[0;36mreraise\u001b[0;34m(tp, value, tb, cause)\u001b[0m\n\u001b[1;32m    246\u001b[0m             \u001b[0mvalue\u001b[0m\u001b[0;34m.\u001b[0m\u001b[0m__cause__\u001b[0m \u001b[0;34m=\u001b[0m \u001b[0mcause\u001b[0m\u001b[0;34m\u001b[0m\u001b[0m\n\u001b[1;32m    247\u001b[0m         \u001b[0;32mif\u001b[0m \u001b[0mvalue\u001b[0m\u001b[0;34m.\u001b[0m\u001b[0m__traceback__\u001b[0m \u001b[0;32mis\u001b[0m \u001b[0;32mnot\u001b[0m \u001b[0mtb\u001b[0m\u001b[0;34m:\u001b[0m\u001b[0;34m\u001b[0m\u001b[0m\n\u001b[0;32m--> 248\u001b[0;31m             \u001b[0;32mraise\u001b[0m \u001b[0mvalue\u001b[0m\u001b[0;34m.\u001b[0m\u001b[0mwith_traceback\u001b[0m\u001b[0;34m(\u001b[0m\u001b[0mtb\u001b[0m\u001b[0;34m)\u001b[0m\u001b[0;34m\u001b[0m\u001b[0m\n\u001b[0m\u001b[1;32m    249\u001b[0m         \u001b[0;32mraise\u001b[0m \u001b[0mvalue\u001b[0m\u001b[0;34m\u001b[0m\u001b[0m\n\u001b[1;32m    250\u001b[0m \u001b[0;34m\u001b[0m\u001b[0m\n",
      "\u001b[0;32m~/anaconda3/lib/python3.7/site-packages/sqlalchemy/engine/base.py\u001b[0m in \u001b[0;36m_execute_context\u001b[0;34m(self, dialect, constructor, statement, parameters, *args)\u001b[0m\n\u001b[1;32m   1125\u001b[0m                 \u001b[0mconn\u001b[0m \u001b[0;34m=\u001b[0m \u001b[0mself\u001b[0m\u001b[0;34m.\u001b[0m\u001b[0m_revalidate_connection\u001b[0m\u001b[0;34m(\u001b[0m\u001b[0;34m)\u001b[0m\u001b[0;34m\u001b[0m\u001b[0m\n\u001b[1;32m   1126\u001b[0m \u001b[0;34m\u001b[0m\u001b[0m\n\u001b[0;32m-> 1127\u001b[0;31m             \u001b[0mcontext\u001b[0m \u001b[0;34m=\u001b[0m \u001b[0mconstructor\u001b[0m\u001b[0;34m(\u001b[0m\u001b[0mdialect\u001b[0m\u001b[0;34m,\u001b[0m \u001b[0mself\u001b[0m\u001b[0;34m,\u001b[0m \u001b[0mconn\u001b[0m\u001b[0;34m,\u001b[0m \u001b[0;34m*\u001b[0m\u001b[0margs\u001b[0m\u001b[0;34m)\u001b[0m\u001b[0;34m\u001b[0m\u001b[0m\n\u001b[0m\u001b[1;32m   1128\u001b[0m         \u001b[0;32mexcept\u001b[0m \u001b[0mBaseException\u001b[0m \u001b[0;32mas\u001b[0m \u001b[0me\u001b[0m\u001b[0;34m:\u001b[0m\u001b[0;34m\u001b[0m\u001b[0m\n\u001b[1;32m   1129\u001b[0m             self._handle_dbapi_exception(\n",
      "\u001b[0;32m~/anaconda3/lib/python3.7/site-packages/sqlalchemy/engine/default.py\u001b[0m in \u001b[0;36m_init_compiled\u001b[0;34m(cls, dialect, connection, dbapi_connection, compiled, parameters)\u001b[0m\n\u001b[1;32m    667\u001b[0m                 \u001b[0;32mfor\u001b[0m \u001b[0mkey\u001b[0m \u001b[0;32min\u001b[0m \u001b[0mpositiontup\u001b[0m\u001b[0;34m:\u001b[0m\u001b[0;34m\u001b[0m\u001b[0m\n\u001b[1;32m    668\u001b[0m                     \u001b[0;32mif\u001b[0m \u001b[0mkey\u001b[0m \u001b[0;32min\u001b[0m \u001b[0mprocessors\u001b[0m\u001b[0;34m:\u001b[0m\u001b[0;34m\u001b[0m\u001b[0m\n\u001b[0;32m--> 669\u001b[0;31m                         \u001b[0mparam\u001b[0m\u001b[0;34m.\u001b[0m\u001b[0mappend\u001b[0m\u001b[0;34m(\u001b[0m\u001b[0mprocessors\u001b[0m\u001b[0;34m[\u001b[0m\u001b[0mkey\u001b[0m\u001b[0;34m]\u001b[0m\u001b[0;34m(\u001b[0m\u001b[0mcompiled_params\u001b[0m\u001b[0;34m[\u001b[0m\u001b[0mkey\u001b[0m\u001b[0;34m]\u001b[0m\u001b[0;34m)\u001b[0m\u001b[0;34m)\u001b[0m\u001b[0;34m\u001b[0m\u001b[0m\n\u001b[0m\u001b[1;32m    670\u001b[0m                     \u001b[0;32melse\u001b[0m\u001b[0;34m:\u001b[0m\u001b[0;34m\u001b[0m\u001b[0m\n\u001b[1;32m    671\u001b[0m                         \u001b[0mparam\u001b[0m\u001b[0;34m.\u001b[0m\u001b[0mappend\u001b[0m\u001b[0;34m(\u001b[0m\u001b[0mcompiled_params\u001b[0m\u001b[0;34m[\u001b[0m\u001b[0mkey\u001b[0m\u001b[0;34m]\u001b[0m\u001b[0;34m)\u001b[0m\u001b[0;34m\u001b[0m\u001b[0m\n",
      "\u001b[0;32m~/anaconda3/lib/python3.7/site-packages/sqlalchemy/dialects/sqlite/base.py\u001b[0m in \u001b[0;36mprocess\u001b[0;34m(value)\u001b[0m\n\u001b[1;32m    608\u001b[0m                 }\n\u001b[1;32m    609\u001b[0m             \u001b[0;32melse\u001b[0m\u001b[0;34m:\u001b[0m\u001b[0;34m\u001b[0m\u001b[0m\n\u001b[0;32m--> 610\u001b[0;31m                 raise TypeError(\"SQLite DateTime type only accepts Python \"\n\u001b[0m\u001b[1;32m    611\u001b[0m                                 \"datetime and date objects as input.\")\n\u001b[1;32m    612\u001b[0m         \u001b[0;32mreturn\u001b[0m \u001b[0mprocess\u001b[0m\u001b[0;34m\u001b[0m\u001b[0m\n",
      "\u001b[0;31mStatementError\u001b[0m: (builtins.TypeError) SQLite DateTime type only accepts Python datetime and date objects as input. [SQL: 'INSERT INTO monthyear (\"index\", \"month-year\", pos, neg, neu, compound) VALUES (?, ?, ?, ?, ?, ?)'] [parameters: [{'index': 0, 'month-year': Period('2011-08', 'M'), 'pos': 0.1432663755458516, 'neg': 0.056978165938864685, 'neu': 0.7976069868995632, 'compound': 0.31008777292576417}, {'index': 1, 'month-year': Period('2011-09', 'M'), 'pos': 0.12748379792301073, 'neg': 0.07744264855157361, 'neu': 0.7943677676270761, 'compound': 0.18511465604747382}, {'index': 2, 'month-year': Period('2011-10', 'M'), 'pos': 0.12332532799644158, 'neg': 0.08344866948335934, 'neu': 0.7927829664220594, 'compound': 0.1979366466533241}, {'index': 3, 'month-year': Period('2011-11', 'M'), 'pos': 0.1299480654621138, 'neg': 0.07176284173682732, 'neu': 0.7980052029136352, 'compound': 0.23084148141140742}, {'index': 4, 'month-year': Period('2011-12', 'M'), 'pos': 0.12461637821865762, 'neg': 0.08178733642887348, 'neu': 0.7927531447868258, 'compound': 0.18835580413676578}, {'index': 5, 'month-year': Period('2012-01', 'M'), 'pos': 0.12071000699037487, 'neg': 0.0731898693337636, 'neu': 0.8053495725116977, 'compound': 0.19895731569607986}, {'index': 6, 'month-year': Period('2012-02', 'M'), 'pos': 0.12876838093771675, 'neg': 0.07153826314573855, 'neu': 0.7989236276849557, 'compound': 0.216004931095544}, {'index': 7, 'month-year': Period('2012-03', 'M'), 'pos': 0.12605842457683103, 'neg': 0.07006290772192988, 'neu': 0.8032175474897308, 'compound': 0.20491657901543653}  ... displaying 10 of 88 total bound parameter sets ...  {'index': 86, 'month-year': Period('2018-10', 'M'), 'pos': 0.1131501680020679, 'neg': 0.07272551046782101, 'neu': 0.8133494443008519, 'compound': 0.19388565520806456}, {'index': 87, 'month-year': Period('2018-11', 'M'), 'pos': 0.11877307676322735, 'neg': 0.08256281950043623, 'neu': 0.7824594156518863, 'compound': 0.14056194671875644}]]"
     ]
    }
   ],
   "source": [
    "engine = create_engine('sqlite:///diablodb')\n",
    "connection = engine.raw_connection()\n",
    "cursor = connection.cursor()\n",
    "timed_averages.to_sql('monthyear',  engine, chunksize=1000,\n",
    "              dtype={'month-year': Text, 'pos': Float, 'neu': Float,\n",
    "                     'neg': Float , 'compound': Float})"
   ]
  },
  {
   "cell_type": "code",
   "execution_count": null,
   "metadata": {
    "scrolled": false
   },
   "outputs": [],
   "source": [
    "\n",
    "stopwords = set(STOPWORDS)\n",
    "stopwords.update(['now', 'will', 'come', 'or', 'to', 'and', \n",
    "            'the', 'be', 'i', 'it', 'in', 'of', 'with', 'this', 'if', 'make', 'even', 'PMPosted'\n",
    "            'so', 'but', 'that', 'so', 'all', 'a', 'game', 'because', 'one', 'AMPosted'])\n",
    "count = 0\n",
    "for row in monthly_words.iterrows():\n",
    "    count += 1\n",
    "    wordcloud = WordCloud(stopwords=stopwords, mask=skull_mask, scale=2, height=500,\n",
    "                          font_path=\"fonts/diablo_h.ttf\",\n",
    "                         background_color=\"black\", relative_scaling=.5, max_words=300, \n",
    "                         contour_width=0.1, contour_color='red').generate(row[1].Text)\n",
    "\n",
    "#     plt.figure(figsize=(6, 3), dpi=400)\n",
    "    plt.imshow(wordcloud, interpolation='bilinear')\n",
    "    plt.axis(\"off\")\n",
    "    date =  row[0]\n",
    "    filename = f'{count}cloud'\n",
    "    plt.tight_layout()\n",
    "    plt.title = (f'{date}')\n",
    "    plt.savefig(f'/home/xanderroy/Documents/Diablo-Flask/static/images/{filename}',dpi=250,  transparent=True)\n",
    "    print(filename)"
   ]
  },
  {
   "cell_type": "code",
   "execution_count": null,
   "metadata": {},
   "outputs": [],
   "source": [
    "wordcloud?\n"
   ]
  },
  {
   "cell_type": "code",
   "execution_count": null,
   "metadata": {},
   "outputs": [],
   "source": [
    "# \"June 28, 2008 at 12:18pm\" : announce date\n",
    "# May 2011: Blizzard started the company-wide alpha testing phase\n",
    "# May 15th, 2011: announced that the beta would start by the end of the third quarter \n",
    "# August 1st, 2011: first preview of their beta build and \n",
    "# September 1st, 2011 : they relaunched their community site.\n",
    "# September 6th, 2011 : the Friends and Family beta started. \n",
    "# September 20th, 2011 through May 1st, 2012.: closed beta\n",
    "#     October 22, 2011: Open Beta Announced @ blizzcon\n",
    "        \n",
    "    \n",
    "\n",
    "# Febuary 2012: Announced D3 Would not launch in first quarter of 2012\n",
    "# April 20-23, 2012 :Open Beta Weekend event \n",
    "    \n",
    "# May 15, 2012: Release Date\n",
    "# May 28, 2012: FTC raid on South Korea office\n",
    "# June 15, 2012: French consumers group UFC Que Choisir announced that it had received 1,500 complaints in four days regarding connectivity issues \n",
    "# June 2012: full refunds offered\n",
    "# May 31, 2012: Eurogamer Article denounced Error 37 ongoing \n",
    "# #credit SalParadise   https://us.battle.net/forums/en/d3/topic/6413082176\n",
    "# 2012/05/15: Game Released\n",
    "# 2012/05/15: First Level 60\n",
    "# 2012/05/15: First working bot\n",
    "# 2012/05/18: Monks group \"Serenity\" rune nerfed (hotfix)\n",
    "# 2012/05/19: First NA Inferno Diablo kill w/ screenshot (potentially not first)\n",
    "# 2012/05/22: DH Smokescreen, Wizard Invincibility nerfed (hotfix)\n",
    "# 2012/05/29: 1.0.2a released\n",
    "# 2012/06/07: 1.0.2b released\n",
    "# 2012/06/08: Ashes give less gold, Multiplayer Mob Damage nerfed (hotfix)\n",
    "# 2012/06/19: 1.0.3 released (attack speed reduced 50%, no MF for breakables, high iLvl items drop in A1, affix pool for high iLvl items increased)\n",
    "# 2012/06/28: High iLvl drop rates increased from initial 1.0.3 values\n",
    "# 2012/07/03: Prevented double-drops from elite packs\n",
    "# 2012/07/28: Removed wizard invulnerability, barbarian regen exploit\n",
    "# 2012/08/21: 1.0.4 released\n",
    "# August 15, 2012 starter edition released\n",
    "# August 2013: Ps4 develeopment announced\n",
    "# November 8, 2013: Blizzcon\n",
    "# February 25, 2014, patch 2.0.1 was released, \n",
    "# March 25, 2014: the Reaper of Souls\n",
    "# May 2014: Diablo III: Ultimate Evil Edition Announced (August 19th release)\n",
    "# November 7, 2014: Blizzcon\n",
    "# November 6, 2015: Blizzcon\n",
    "# November 4 2016 :Blizzcon Annouunce darkening of tristam event\n",
    "# June 27, 2017 : ps4, xbone release Eternal Collection\n",
    "# November 3, 2017: Blizzcon\n",
    "# November 2, 2018: switch release Eternaal Collection\n",
    "# November 2, 2018: Immortal Is Announced\n",
    "    \n",
    "# Patch 2.6.1 — October 2017\n",
    "# Patch 2.6.0 — June 2017\n",
    "# Patch 2.5.0 — March 2017\n",
    "# Patch 2.4.3 — January 2017\n",
    "# Patch 2.4.2 — August 2016\n",
    "# Patch 2.4.1 — April 2016\n",
    "# Patch 2.4 — January 2016\n",
    "# Patch 2.3 — August 2015\n",
    "# Patch 2.2 — April 2015\n",
    "# Patch 2.1.2 — January 2015\n",
    "# Patch 2.1.1 — September 2014\n",
    "# Patch 2.1.0 — August 2014\n",
    "# Patch 2.0.6 — June 2014\n",
    "# Patch 2.0.5 — May 2014\n",
    "# Patch 2.0.4 — April 2014\n",
    "# Diablo 3 Reaper of Souls — March 2014\n",
    "# Patch 2.0.3 — March 2014\n",
    "# Patch 2.0.2 — March 2014\n",
    "# Patch 2.0.1 — February 2014\n",
    "# Patch 1.0.8 — May 2013\n",
    "# Patch 1.0.7 — February 2013\n",
    "# Patch 1.0.6 — November 2012\n",
    "# Patch 1.0.5 — October 2012\n",
    "# Patch 1.0.4 — August 2012\n",
    "# Patch 1.0.3 — June 2012\n",
    "# Patch 1.0.2 — June 2012\n",
    "# Diablo 3 \"Vanilla\" — May 2012\n",
    "# Patch 1.0.1 — May 2012\n",
    "\n",
    "\n",
    "\n",
    "# Patch 2.6.1 — October 2017\n",
    "# Class Set Revisions\n",
    "# Skill Changes\n",
    "# Item Revisions\n",
    "# Patch 2.6.0 — June 2017\n",
    "# Necromancer Character pack\n",
    "# New Class: Necromancer\n",
    "# New Set and Legendary Items\n",
    "# New Cosmetics\n",
    "# New Zones: Moors and Temple of the Firstborn\n",
    "# New Zones: Fractured Realms (Realms of Fate)\n",
    "# Challenge Rifts\n",
    "# Patch 2.5.0 — March 2017\n",
    "# Seasons on Console\n",
    "# The Armory - Easy system for switching builds\n",
    "# Crafting Mat Storage\n",
    "# Primal Ancients - Perfectly rolled ancient items\n",
    "# Changes to Legendaries, Set Items, Greater Rifts, Skills and more\n",
    "# Patch 2.4.3 — January 2017\n",
    "# 20th Anniversary Event\n",
    "# 64-bit client and other hardware support\n",
    "# Changes to Legendaries, Set Items, Elite Affixes, Skills, and more\n",
    "# Patch 2.4.2 — August 2016\n",
    "# New Difficulty Levels\n",
    "# New and Updated Items\n",
    "# UI Updates\n",
    "# Adventure Mode Changes\n",
    "# Patch 2.4.1 — April 2016\n",
    "# Legendary Gem Updates\n",
    "# New Cosmetic Items\n",
    "# Patch 2.4 — January 2016\n",
    "# VIDEO: What's New in Patch 2.4\n",
    "# New: Greyhollow Island. Expanded: The Eternal Woods and Royal Quarters\n",
    "# Revamped Set Items. New Legendaries\n",
    "# Set Dungeons\n",
    "# Empowered Rifts\n",
    "# Action Combat\n",
    "# Season Rebirth\n",
    "# Revised Buff User Interface\n",
    "# More Stash Space\n",
    "# Patch 2.3 — August 2015\n",
    "# VIDEO: What's New in Patch 2.3\n",
    "# Kanai’s Cube\n",
    "# Season Journey\n",
    "# Torment 7-10\n",
    "# Adventure Mode and Crafting Updates\n",
    "# Ruins of Sescheron\n",
    "# Combat Changes\n",
    "# Patch 2.2 — April 2015\n",
    "# New Bounties. Auto-crafting. Blood Shard cap\n",
    "# New items, item and set changes\n",
    "# Undocumented Changes\n",
    "# Patch 2.1.2 — January 2015\n",
    "# Some sets reworked\n",
    "# Damage shield changes (e.g. cheat deaths, absorb shields, and % Damage Reduction)\n",
    "# Ancient items\n",
    "# New Treasure Goblins\n",
    "# Patch 2.1.1 — September 2014\n",
    "# Pet survivability\n",
    "# Enchant jewelry cost reduced\n",
    "# Undocumented Changes\n",
    "# Patch 2.1.0 — August 2014\n",
    "# VIDEO: What's New in Patch 2.1.0\n",
    "# Combat Changes: Dexterity Change, Healing, 2h Weapons Buff, Charges\n",
    "# New Game Mode: Seasons\n",
    "# New Zones\n",
    "# Greater Rifts, Legendary Gems\n",
    "# Changes to Legendary Items\n",
    "# Undocumented Changes\n",
    "# Hotfixes on August 3, 2014\n",
    "# Patch 2.0.6 — June 2014\n",
    "# Unique crafting materials removed\n",
    "# Several Monk changes\n",
    "# Patch 2.0.5 — May 2014\n",
    "# Skill balancing\n",
    "# Undocumented Changes\n",
    "# Patch 2.0.4 — April 2014\n",
    "# Skill balancing\n",
    "# Gem costs changes\n",
    "# Undocumented Changes\n",
    "# Diablo 3 Reaper of Souls — March 2014\n",
    "# Crusader Class\n",
    "# Level 70\n",
    "# Act V\n",
    "# Adventure Mode - Bounties, Nephalem Rifts, Blood Shard Gambling\n",
    "# Mystic - Enchanting and Transmogrification\n",
    "# New items/powers only for level 61+ characters.\n",
    "# MORE INFO: Reaper of Souls Mega FAQ/Help Thread\n",
    "# Patch 2.0.3 — March 2014\n",
    "# Bug fixes\n",
    "# Patch 2.0.2 — March 2014\n",
    "# Bug fixes\n",
    "# Patch 2.0.1 — February 2014\n",
    "# Loot 2.0\n",
    "# Class Changes: Barbarian, Demon Hunter, Monk, Witch Doctor, and Wizard\n",
    "# Difficulty Changes\n",
    "# Paragon 2.0\n",
    "# Clans and Communities\n",
    "# Reworked quest bonuses, hero statistics, and boss fights\n",
    "# New/Changed Monster affixes and New/Changed Events\n",
    "# Patch 1.0.8 — May 2013\n",
    "# Increased Multiplayer Experience. Many Experience changes, Team Alerts\n",
    "# Identify All. Queue up multiple crafts. Craft from stash materials.\n",
    "# Game type tags\n",
    "# Patch 1.0.7 — February 2013\n",
    "# Brawling\n",
    "# Demonic Essence for Bind on Account Crafting\n",
    "# Marquise Gems\n",
    "# Reflect changed\n",
    "# Patch 1.0.6 — November 2012\n",
    "# Bugfixes\n",
    "# Patch 1.0.5 — October 2012\n",
    "# Infernal Machine and Hellfire Rings\n",
    "# Monster Power\n",
    "# Patch 1.0.4 — August 2012\n",
    "# Paragon Levels\n",
    "# Magic Find no longer averaged on team\n",
    "# New Legendary Items\n",
    "# No Enrage Timer for Champs and Rares.\n",
    "# Invulnerable Minion removed. Shielding changed.\n",
    "# Patch 1.0.3 — June 2012\n",
    "# Attack Speed bonus nerf.\n",
    "# Patch 1.0.2 — June 2012\n",
    "# Real Money Auction House\n",
    "# Diablo 3 \"Vanilla\" — May 2012\n",
    "# Patch 1.0.1 — May 2012\n",
    "# Diablo 3 \"Vanilla\" is released."
   ]
  },
  {
   "cell_type": "code",
   "execution_count": null,
   "metadata": {},
   "outputs": [],
   "source": []
  }
 ],
 "metadata": {
  "kernelspec": {
   "display_name": "Python 3",
   "language": "python",
   "name": "python3"
  },
  "language_info": {
   "codemirror_mode": {
    "name": "ipython",
    "version": 3
   },
   "file_extension": ".py",
   "mimetype": "text/x-python",
   "name": "python",
   "nbconvert_exporter": "python",
   "pygments_lexer": "ipython3",
   "version": "3.7.0"
  },
  "varInspector": {
   "cols": {
    "lenName": 16,
    "lenType": 16,
    "lenVar": 40
   },
   "kernels_config": {
    "python": {
     "delete_cmd_postfix": "",
     "delete_cmd_prefix": "del ",
     "library": "var_list.py",
     "varRefreshCmd": "print(var_dic_list())"
    },
    "r": {
     "delete_cmd_postfix": ") ",
     "delete_cmd_prefix": "rm(",
     "library": "var_list.r",
     "varRefreshCmd": "cat(var_dic_list()) "
    }
   },
   "types_to_exclude": [
    "module",
    "function",
    "builtin_function_or_method",
    "instance",
    "_Feature"
   ],
   "window_display": false
  }
 },
 "nbformat": 4,
 "nbformat_minor": 2
}
