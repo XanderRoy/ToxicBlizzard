{
 "cells": [
  {
   "cell_type": "code",
   "execution_count": 1,
   "metadata": {},
   "outputs": [],
   "source": [
    "# Dependencies\n",
    "import numpy as np\n",
    "import pandas as pd\n",
    "import threading\n",
    "import _thread\n",
    "from splinter import Browser\n",
    "import requests\n",
    "import lxml\n",
    "from datetime import datetime\n",
    "import pymongo\n",
    "from bs4 import BeautifulSoup\n",
    "\n",
    "# Import and Initialize Sentiment Analyzer\n",
    "from vaderSentiment.vaderSentiment import SentimentIntensityAnalyzer\n",
    "analyzer = SentimentIntensityAnalyzer()\n"
   ]
  },
  {
   "cell_type": "code",
   "execution_count": 2,
   "metadata": {},
   "outputs": [
    {
     "name": "stdout",
     "output_type": "stream",
     "text": [
      "/home/xanderroy/bin/chromedriver\r\n"
     ]
    }
   ],
   "source": [
    "!which chromedriver"
   ]
  },
  {
   "cell_type": "code",
   "execution_count": 3,
   "metadata": {},
   "outputs": [],
   "source": [
    "# Initialize PyMongo to work with MongoDBs\n",
    "conn = 'mongodb://localhost:27017'\n",
    "client = pymongo.MongoClient(conn)"
   ]
  },
  {
   "cell_type": "code",
   "execution_count": 4,
   "metadata": {},
   "outputs": [],
   "source": [
    "# Define database and collection\n",
    "db = client.diablo_db\n",
    "collection = db.d3forum2"
   ]
  },
  {
   "cell_type": "code",
   "execution_count": null,
   "metadata": {},
   "outputs": [],
   "source": []
  },
  {
   "cell_type": "code",
   "execution_count": 5,
   "metadata": {},
   "outputs": [],
   "source": [
    "def scraper(start_number, end_number):\n",
    "    executable_path = {'executable_path': '/home/xanderroy/bin/chromedriver'}\n",
    "    browser = Browser('chrome', **executable_path, headless=False)\n",
    "    identifiers = []\n",
    "    post_dict = {}\n",
    "\n",
    "    for x in range(start_number, end_number + 1 ):\n",
    "        if x % 50 == 0:\n",
    "            print(f\"page {x} of {end_number}\")\n",
    "        url = f'https://us.battle.net/forums/en/d3/3354739/?page={x}'\n",
    "        browser.visit(url)\n",
    "\n",
    "        html = browser.html\n",
    "        soup = BeautifulSoup(html, 'lxml-xml')\n",
    "\n",
    "\n",
    "        titles = soup.find_all('span', class_=\"ForumTopic-title\")\n",
    "        links = soup.find_all('span', class_=\"ForumTopic-timestamp\")\n",
    "\n",
    "\n",
    "        for title, link in zip(titles, links):\n",
    "            link = 'https://us.battle.net' + link.find('a')['href']\n",
    "\n",
    "\n",
    "            reply_text = []\n",
    "            reply_sentiment = []\n",
    "            browser.visit(link)\n",
    "            html = browser.html\n",
    "            soup = BeautifulSoup(html, 'html.parser')\n",
    "            try:\n",
    "                soup.find('div', class_=\"error-issue\").text\n",
    "                print(\"404 error\")\n",
    "            except AttributeError:\n",
    "                replies = soup.find_all('div', class_=\"TopicPost-bodyContent\")\n",
    "                dtimes = soup.find_all('a', class_=\"TopicPost-timestamp\")\n",
    "                for reply, dtime in zip(replies, dtimes):\n",
    "\n",
    "                    posted_at = dtime['data-tooltip-content']\n",
    "\n",
    "                    reply_text.append(reply.text)\n",
    "                    reply_sentiment.append(analyzer.polarity_scores(reply.text))\n",
    "\n",
    "\n",
    "                db.d3forum2.update_one({'title':title.text.strip()}, {\"$set\":\n",
    "                                                                      {'title': title.text.strip(),\n",
    "                                                                       'posted_at' : datetime.strptime(posted_at[-19:], '%m/%d/%Y %I:%M %p'),\n",
    "                                                                        'text' : reply_text,\n",
    "                                                                       'reply_sentiment': reply_sentiment}}, upsert=True)\n",
    "\n"
   ]
  },
  {
   "cell_type": "code",
   "execution_count": null,
   "metadata": {},
   "outputs": [],
   "source": [
    "scraper(3030, 4000)"
   ]
  },
  {
   "cell_type": "code",
   "execution_count": null,
   "metadata": {},
   "outputs": [],
   "source": [
    "# _thread.start_new_thread ( scraper, (1, 1000))\n",
    "# # _thread.start_new_thread ( scraper, (1001, 2000))\n",
    "# # _thread.start_new_thread ( scraper, (2001, 3000))\n",
    "# _thread.start_new_thread ( scraper, (3021, 4000))\n",
    "# _thread.start_new_thread ( scraper, (4001, 5000))\n",
    "# # _thread.start_new_thread ( scraper, (5001, 6000))\n",
    "# _thread.start_new_thread ( scraper, (6001, 7000))\n",
    "# _thread.start_new_thread ( scraper, (7001, 8000))\n",
    "# # _thread.start_new_thread ( scraper, (8001, 9000))\n",
    "# # _thread.start_new_thread ( scraper, (9001, 9900))\n"
   ]
  },
  {
   "cell_type": "code",
   "execution_count": null,
   "metadata": {},
   "outputs": [],
   "source": [
    "threading.enumerate() "
   ]
  },
  {
   "cell_type": "code",
   "execution_count": null,
   "metadata": {},
   "outputs": [],
   "source": [
    "?threading"
   ]
  },
  {
   "cell_type": "code",
   "execution_count": null,
   "metadata": {},
   "outputs": [],
   "source": []
  }
 ],
 "metadata": {
  "kernelspec": {
   "display_name": "Python 3",
   "language": "python",
   "name": "python3"
  },
  "language_info": {
   "codemirror_mode": {
    "name": "ipython",
    "version": 3
   },
   "file_extension": ".py",
   "mimetype": "text/x-python",
   "name": "python",
   "nbconvert_exporter": "python",
   "pygments_lexer": "ipython3",
   "version": "3.7.0"
  },
  "varInspector": {
   "cols": {
    "lenName": 16,
    "lenType": 16,
    "lenVar": 40
   },
   "kernels_config": {
    "python": {
     "delete_cmd_postfix": "",
     "delete_cmd_prefix": "del ",
     "library": "var_list.py",
     "varRefreshCmd": "print(var_dic_list())"
    },
    "r": {
     "delete_cmd_postfix": ") ",
     "delete_cmd_prefix": "rm(",
     "library": "var_list.r",
     "varRefreshCmd": "cat(var_dic_list()) "
    }
   },
   "types_to_exclude": [
    "module",
    "function",
    "builtin_function_or_method",
    "instance",
    "_Feature"
   ],
   "window_display": false
  }
 },
 "nbformat": 4,
 "nbformat_minor": 2
}
